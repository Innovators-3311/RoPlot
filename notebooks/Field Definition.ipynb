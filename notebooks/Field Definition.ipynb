{
 "cells": [
  {
   "cell_type": "markdown",
   "id": "3b038cef",
   "metadata": {},
   "source": [
    "# Field Definition\n",
    "\n",
    "This was the prototyping work that I used to create the `roplot.FieldPowerPlay` class."
   ]
  },
  {
   "cell_type": "code",
   "execution_count": 72,
   "id": "53606d1e",
   "metadata": {},
   "outputs": [],
   "source": [
    "from itertools import product\n",
    "import numpy as np\n",
    "import geopandas as gpd\n",
    "from shapely.geometry import LineString, Polygon, Point, MultiPolygon, MultiLineString"
   ]
  },
  {
   "cell_type": "markdown",
   "id": "6ef4a1c5",
   "metadata": {},
   "source": [
    "See this [Sample Notebook](https://github.com/geopandas/geopandas/blob/main/doc/source/gallery/overlays.ipynb) for an example of how to define polygons."
   ]
  },
  {
   "cell_type": "code",
   "execution_count": 18,
   "id": "53fe34a2",
   "metadata": {},
   "outputs": [
    {
     "data": {
      "text/plain": [
       "{'ground': [<POINT (24 24)>,\n",
       "  <POINT (24 72)>,\n",
       "  <POINT (24 120)>,\n",
       "  <POINT (72 24)>,\n",
       "  <POINT (72 72)>,\n",
       "  <POINT (72 120)>,\n",
       "  <POINT (120 24)>,\n",
       "  <POINT (120 72)>,\n",
       "  <POINT (120 120)>],\n",
       " 'low': [<POINT (48 24)>,\n",
       "  <POINT (48 120)>,\n",
       "  <POINT (96 24)>,\n",
       "  <POINT (96 120)>,\n",
       "  <POINT (24 48)>,\n",
       "  <POINT (24 96)>,\n",
       "  <POINT (120 48)>,\n",
       "  <POINT (120 96)>],\n",
       " 'medium': [<POINT (48 48)>,\n",
       "  <POINT (48 96)>,\n",
       "  <POINT (96 48)>,\n",
       "  <POINT (96 96)>],\n",
       " 'high': [<POINT (48 72)>, <POINT (72 48)>, <POINT (72 96)>, <POINT (96 72)>]}"
      ]
     },
     "execution_count": 18,
     "metadata": {},
     "output_type": "execute_result"
    }
   ],
   "source": [
    "field = Polygon([(0,0), (0, 144), (144,144), (144,0), (0,0)])\n",
    "field.area\n",
    "\n",
    "offsets = np.array([1,2,3,4,5]) * 24\n",
    "junctions = {\n",
    "    \"ground\": [Point(i,j) for i,j in \n",
    "               product(offsets[0:5:2], offsets[0:5:2])],\n",
    "    \"low\": [Point(i,j) for i,j in \n",
    "            product(offsets[[1,3]], offsets[[0, 4]])]\n",
    "         + [Point(i,j) for i,j in \n",
    "            product(offsets[[0,4]], offsets[[1, 3]])],\n",
    "    \"medium\": [Point(i,j) for i,j in \n",
    "               product(offsets[[1,3]], offsets[[1, 3]])],\n",
    "    \"high\": [Point(offsets[1], offsets[2]),\n",
    "             Point(offsets[2], offsets[1]),\n",
    "             Point(offsets[2], offsets[3]),\n",
    "             Point(offsets[3], offsets[2]),\n",
    "            ]\n",
    "}\n",
    "\n",
    "junctions"
   ]
  },
  {
   "cell_type": "code",
   "execution_count": 92,
   "id": "e4ed2301",
   "metadata": {},
   "outputs": [
    {
     "name": "stdout",
     "output_type": "stream",
     "text": [
      "substation MULTILINESTRING ((0 60, 12 72), (12 72, 0 84))\n",
      "substation MULTILINESTRING ((144 60, 132 72), (132 72, 144 84))\n",
      "terminal LINESTRING (0 12, 12 0)\n",
      "terminal LINESTRING (144 132, 132 144)\n",
      "terminal LINESTRING (144 12, 132 0)\n",
      "terminal LINESTRING (0 132, 12 144)\n",
      "cone stack LINESTRING (60 0, 60 24)\n",
      "cone stack LINESTRING (60 120, 60 144)\n",
      "cone stack LINESTRING (84 0, 84 24)\n",
      "cone stack LINESTRING (84 120, 84 144)\n"
     ]
    }
   ],
   "source": [
    "field_lines=gpd.GeoDataFrame([\n",
    "    {\"name\": \"substation\",\n",
    "     \"color\": \"blue\",\n",
    "     \"width\": 2,\n",
    "     \"shape\": MultiLineString([((0, 72-12), (12, 72)),\n",
    "                               ((12, 72), (0, 72+12))])\n",
    "    },\n",
    "    {\"name\": \"substation\",\n",
    "     \"color\": \"red\",\n",
    "     \"width\": 2,\n",
    "     \"shape\": MultiLineString([((144, 72-12), (144-12, 72)), \n",
    "                               ((144-12, 72), (144, 72+12))])\n",
    "    },\n",
    "    {\"name\": \"terminal\", \n",
    "     \"color\": \"blue\",\n",
    "     \"width\": 2.0,\n",
    "     \"shape\": LineString(((0, 12), (12, 0)))\n",
    "    },\n",
    "    {\"name\": \"terminal\", \n",
    "     \"color\": \"blue\",\n",
    "     \"width\": 2.0,\n",
    "     \"shape\": LineString(((144-0, 144-12), (144-12, 144-0)))\n",
    "    },\n",
    "    {\"name\": \"terminal\", \n",
    "     \"color\": \"red\",\n",
    "     \"width\": 2.0,\n",
    "     \"shape\": LineString(((144-0, 12), (144-12, 0)))\n",
    "    },\n",
    "    {\"name\": \"terminal\", \n",
    "     \"color\": \"red\",\n",
    "     \"width\": 2.0,\n",
    "     \"shape\": LineString(((0, 144-12), (12, 144-0)))\n",
    "    },\n",
    "    {\"name\": \"cone stack\", \n",
    "     \"color\": \"blue\",\n",
    "     \"width\": 2.0,\n",
    "     \"shape\": LineString(((60, 0), (60, 24)))\n",
    "    },\n",
    "    {\"name\": \"cone stack\", \n",
    "     \"color\": \"blue\",\n",
    "     \"width\": 2.0,\n",
    "     \"shape\": LineString(((60, 144-24), (60, 144)))\n",
    "    },\n",
    "    {\"name\": \"cone stack\", \n",
    "     \"color\": \"red\",\n",
    "     \"width\": 2.0,\n",
    "     \"shape\": LineString(((144-60, 0), (144-60, 24)))\n",
    "    },\n",
    "    {\"name\": \"cone stack\", \n",
    "     \"color\": \"red\",\n",
    "     \"width\": 2.0,\n",
    "     \"shape\": LineString(((144-60, 144-24), (144-60, 144)))\n",
    "    },\n",
    "    \n",
    "])\n",
    "\n",
    "for k,v in field_lines.T.items():\n",
    "    print(v['name'], v['shape'])"
   ]
  },
  {
   "cell_type": "code",
   "execution_count": 93,
   "id": "c76c7b0f",
   "metadata": {},
   "outputs": [
    {
     "data": {
      "image/png": "[encoded data removed]",
      "text/plain": [
       "<Figure size 640x480 with 1 Axes>"
      ]
     },
     "metadata": {},
     "output_type": "display_data"
    }
   ],
   "source": [
    "import matplotlib.pyplot as plt\n",
    "junction_series = {k:gpd.GeoSeries(v) for k,v in junctions.items()}\n",
    "frm = gpd.GeoDataFrame([{\n",
    "   \"name\": \"field\",\n",
    "   \"series\": gpd.GeoSeries(field) \n",
    "}] + [{\n",
    "    \"name\": k + \" junction\",\n",
    "    \"series\": v\n",
    "} for k,v in junction_series.items()\n",
    "]) \n",
    "\n",
    "p = plt.figure()\n",
    "ax = plt.gca()\n",
    "gpd.GeoSeries(field).plot(ax=ax, color=\"#AAA\")\n",
    "for k,v in junction_series.items():\n",
    "    v.plot(ax=ax)\n",
    "\n",
    "for k,v in field_lines.T.items():\n",
    "    gpd.GeoSeries(v['shape']).plot(color=v['color'], ax=ax, linewidth=5.0)\n",
    "    \n",
    "plt.show()"
   ]
  },
  {
   "cell_type": "code",
   "execution_count": 94,
   "id": "477c19ab",
   "metadata": {},
   "outputs": [
    {
     "ename": "AttributeError",
     "evalue": "type object 'CRS' has no attribute 'Simple'",
     "output_type": "error",
     "traceback": [
      "\u001b[0;31m---------------------------------------------------------------------------\u001b[0m",
      "\u001b[0;31mAttributeError\u001b[0m                            Traceback (most recent call last)",
      "Cell \u001b[0;32mIn[94], line 2\u001b[0m\n\u001b[1;32m      1\u001b[0m \u001b[38;5;28;01mimport\u001b[39;00m \u001b[38;5;21;01mpyproj\u001b[39;00m\n\u001b[0;32m----> 2\u001b[0m crs \u001b[38;5;241m=\u001b[39m \u001b[43mpyproj\u001b[49m\u001b[38;5;241;43m.\u001b[39;49m\u001b[43mCRS\u001b[49m\u001b[38;5;241;43m.\u001b[39;49m\u001b[43mSimple\u001b[49m\n\u001b[1;32m      3\u001b[0m gpd\u001b[38;5;241m.\u001b[39mGeoSeries(field)\u001b[38;5;241m.\u001b[39mexplore()\n",
      "\u001b[0;31mAttributeError\u001b[0m: type object 'CRS' has no attribute 'Simple'"
     ]
    }
   ],
   "source": [
    "import pyproj\n",
    "crs = pyproj.CRS.Simple\n",
    "gpd.GeoSeries(field).explore()"
   ]
  },
  {
   "cell_type": "code",
   "execution_count": 114,
   "id": "f85b2dcb",
   "metadata": {
    "scrolled": true
   },
   "outputs": [
    {
     "data": {
      "text/html": [
       "<div style=\"width:100%;\"><div style=\"position:relative;width:100%;height:0;padding-bottom:60%;\"><span style=\"color:#565656\">Make this Notebook Trusted to load map: File -> Trust Notebook</span><iframe srcdoc=\"&lt;!DOCTYPE html&gt;\n",
       "&lt;html&gt;\n",
       "&lt;head&gt;\n",
       "    \n",
       "    &lt;meta http-equiv=&quot;content-type&quot; content=&quot;text/html; charset=UTF-8&quot; /&gt;\n",
       "    \n",
       "        &lt;script&gt;\n",
       "            L_NO_TOUCH = false;\n",
       "            L_DISABLE_3D = false;\n",
       "        &lt;/script&gt;\n",
       "    \n",
       "    &lt;style&gt;html, body {width: 100%;height: 100%;margin: 0;padding: 0;}&lt;/style&gt;\n",
       "    &lt;style&gt;#map {position:absolute;top:0;bottom:0;right:0;left:0;}&lt;/style&gt;\n",
       "    &lt;script src=&quot;https://cdn.jsdelivr.net/npm/leaflet@1.9.3/dist/leaflet.js&quot;&gt;&lt;/script&gt;\n",
       "    &lt;script src=&quot;https://code.jquery.com/jquery-1.12.4.min.js&quot;&gt;&lt;/script&gt;\n",
       "    &lt;script src=&quot;https://cdn.jsdelivr.net/npm/bootstrap@5.2.2/dist/js/bootstrap.bundle.min.js&quot;&gt;&lt;/script&gt;\n",
       "    &lt;script src=&quot;https://cdnjs.cloudflare.com/ajax/libs/Leaflet.awesome-markers/2.0.2/leaflet.awesome-markers.js&quot;&gt;&lt;/script&gt;\n",
       "    &lt;link rel=&quot;stylesheet&quot; href=&quot;https://cdn.jsdelivr.net/npm/leaflet@1.9.3/dist/leaflet.css&quot;/&gt;\n",
       "    &lt;link rel=&quot;stylesheet&quot; href=&quot;https://cdn.jsdelivr.net/npm/bootstrap@5.2.2/dist/css/bootstrap.min.css&quot;/&gt;\n",
       "    &lt;link rel=&quot;stylesheet&quot; href=&quot;https://netdna.bootstrapcdn.com/bootstrap/3.0.0/css/bootstrap.min.css&quot;/&gt;\n",
       "    &lt;link rel=&quot;stylesheet&quot; href=&quot;https://cdn.jsdelivr.net/npm/@fortawesome/fontawesome-free@6.2.0/css/all.min.css&quot;/&gt;\n",
       "    &lt;link rel=&quot;stylesheet&quot; href=&quot;https://cdnjs.cloudflare.com/ajax/libs/Leaflet.awesome-markers/2.0.2/leaflet.awesome-markers.css&quot;/&gt;\n",
       "    &lt;link rel=&quot;stylesheet&quot; href=&quot;https://cdn.jsdelivr.net/gh/python-visualization/folium/folium/templates/leaflet.awesome.rotate.min.css&quot;/&gt;\n",
       "    \n",
       "            &lt;meta name=&quot;viewport&quot; content=&quot;width=device-width,\n",
       "                initial-scale=1.0, maximum-scale=1.0, user-scalable=no&quot; /&gt;\n",
       "            &lt;style&gt;\n",
       "                #map_95f98be0be0e3ba83d18163e8c954f00 {\n",
       "                    position: relative;\n",
       "                    width: 100.0%;\n",
       "                    height: 100.0%;\n",
       "                    left: 0.0%;\n",
       "                    top: 0.0%;\n",
       "                }\n",
       "                .leaflet-container { font-size: 1rem; }\n",
       "            &lt;/style&gt;\n",
       "        \n",
       "&lt;/head&gt;\n",
       "&lt;body&gt;\n",
       "    \n",
       "    \n",
       "            &lt;div class=&quot;folium-map&quot; id=&quot;map_95f98be0be0e3ba83d18163e8c954f00&quot; &gt;&lt;/div&gt;\n",
       "        \n",
       "&lt;/body&gt;\n",
       "&lt;script&gt;\n",
       "    \n",
       "    \n",
       "            var map_95f98be0be0e3ba83d18163e8c954f00 = L.map(\n",
       "                &quot;map_95f98be0be0e3ba83d18163e8c954f00&quot;,\n",
       "                {\n",
       "                    center: [72.0, 72.0],\n",
       "                    crs: L.CRS.Simple,\n",
       "                    zoom: 10,\n",
       "                    zoomControl: true,\n",
       "                    preferCanvas: false,\n",
       "                }\n",
       "            );\n",
       "\n",
       "            \n",
       "\n",
       "        \n",
       "    \n",
       "\n",
       "        function geo_json_a7f1dffc67478ae331cf07cc1b4ed8e7_onEachFeature(feature, layer) {\n",
       "            layer.on({\n",
       "            });\n",
       "        };\n",
       "        var geo_json_a7f1dffc67478ae331cf07cc1b4ed8e7 = L.geoJson(null, {\n",
       "                onEachFeature: geo_json_a7f1dffc67478ae331cf07cc1b4ed8e7_onEachFeature,\n",
       "            \n",
       "        });\n",
       "\n",
       "        function geo_json_a7f1dffc67478ae331cf07cc1b4ed8e7_add (data) {\n",
       "            geo_json_a7f1dffc67478ae331cf07cc1b4ed8e7\n",
       "                .addData(data)\n",
       "                .addTo(map_95f98be0be0e3ba83d18163e8c954f00);\n",
       "        }\n",
       "            geo_json_a7f1dffc67478ae331cf07cc1b4ed8e7_add({&quot;bbox&quot;: [0.0, 0.0, 144.0, 144.0], &quot;features&quot;: [{&quot;bbox&quot;: [0.0, 0.0, 144.0, 144.0], &quot;geometry&quot;: {&quot;coordinates&quot;: [[[0.0, 0.0], [0.0, 144.0], [144.0, 144.0], [144.0, 0.0], [0.0, 0.0]]], &quot;type&quot;: &quot;Polygon&quot;}, &quot;id&quot;: &quot;0&quot;, &quot;properties&quot;: {}, &quot;type&quot;: &quot;Feature&quot;}], &quot;type&quot;: &quot;FeatureCollection&quot;});\n",
       "\n",
       "        \n",
       "&lt;/script&gt;\n",
       "&lt;/html&gt;\" style=\"position:absolute;width:100%;height:100%;left:0;top:0;border:none !important;\" allowfullscreen webkitallowfullscreen mozallowfullscreen></iframe></div></div>"
      ],
      "text/plain": [
       "<folium.folium.Map at 0x7fc3171a91e0>"
      ]
     },
     "execution_count": 114,
     "metadata": {},
     "output_type": "execute_result"
    }
   ],
   "source": [
    "from branca.element import Figure\n",
    "import folium\n",
    "crs = \"Simple\"\n",
    "fig2 = Figure(width=550, height=550)\n",
    "m2=folium.Map(location=[72, 72], tiles=None, crs=crs)\n",
    "folium.GeoJson(gpd.GeoSeries(field).to_json()).add_to(m2)\n",
    "# Polygon(field.).add_to(m2)\n",
    "m2 "
   ]
  },
  {
   "cell_type": "code",
   "execution_count": 110,
   "id": "38e7191f",
   "metadata": {},
   "outputs": [
    {
     "data": {
      "text/plain": [
       "(array('d', [0.0, 0.0, 144.0, 144.0, 0.0]),\n",
       " array('d', [0.0, 144.0, 144.0, 0.0, 0.0]))"
      ]
     },
     "execution_count": 110,
     "metadata": {},
     "output_type": "execute_result"
    }
   ],
   "source": [
    "field.boundary.coords.xy"
   ]
  }
 ],
 "metadata": {
  "kernelspec": {
   "display_name": "Python 3 (ipykernel)",
   "language": "python",
   "name": "python3"
  },
  "language_info": {
   "codemirror_mode": {
    "name": "ipython",
    "version": 3
   },
   "file_extension": ".py",
   "mimetype": "text/x-python",
   "name": "python",
   "nbconvert_exporter": "python",
   "pygments_lexer": "ipython3",
   "version": "3.10.8"
  }
 },
 "nbformat": 4,
 "nbformat_minor": 5
}
