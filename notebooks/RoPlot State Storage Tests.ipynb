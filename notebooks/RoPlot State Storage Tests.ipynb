{
 "cells": [
  {
   "cell_type": "code",
   "execution_count": 1,
   "id": "fdce502e",
   "metadata": {},
   "outputs": [],
   "source": [
    "import sys\n",
    "if \"../src/\" not in sys.path:\n",
    "    sys.path.append(\"../src/\")\n",
    "from roplot import FieldPowerPlay, Robot, StateRecord, DeclarativeBase\n",
    "from datetime import datetime\n",
    "import matplotlib.pyplot as plt\n",
    "from sqlalchemy import create_engine, desc\n",
    "from sqlalchemy.orm import Session\n",
    "\n",
    "from shapely import Point"
   ]
  },
  {
   "cell_type": "code",
   "execution_count": 9,
   "id": "6eba1914",
   "metadata": {
    "scrolled": false
   },
   "outputs": [
    {
     "data": {
      "text/plain": [
       "{'runtime': 32.399809,\n",
       " 'x': 32.91096940489993,\n",
       " 'y': 46.88261017312812,\n",
       " 'heading': 323.8389099999999,\n",
       " 'vx': 0.7760131293581211,\n",
       " 'vy': 0.643576870936501,\n",
       " 'heading_rate': 10}"
      ]
     },
     "execution_count": 9,
     "metadata": {},
     "output_type": "execute_result"
    }
   ],
   "source": [
    "fpp = FieldPowerPlay()\n",
    "\n",
    "DATA_PATH='../src/data'\n",
    "TODAY = datetime.now().strftime(\"%Y-%m-%d\")\n",
    "ENGINE = create_engine(f\"sqlite:///{DATA_PATH}/{TODAY}.sqlite\")\n",
    "\n",
    "session = Session(ENGINE)\n",
    "sr = session.query(StateRecord).order_by(desc( StateRecord.id )).limit(1).first()\n",
    "sr.record"
   ]
  },
  {
   "cell_type": "code",
   "execution_count": 3,
   "id": "2e9dad28",
   "metadata": {
    "scrolled": false
   },
   "outputs": [
    {
     "ename": "NameError",
     "evalue": "name 'r' is not defined",
     "output_type": "error",
     "traceback": [
      "\u001b[0;31m---------------------------------------------------------------------------\u001b[0m",
      "\u001b[0;31mNameError\u001b[0m                                 Traceback (most recent call last)",
      "Cell \u001b[0;32mIn[3], line 9\u001b[0m\n\u001b[1;32m      6\u001b[0m fpp\u001b[38;5;241m.\u001b[39madd_to(m2, show_junctions\u001b[38;5;241m=\u001b[39m\u001b[38;5;28;01mTrue\u001b[39;00m)\n\u001b[1;32m      8\u001b[0m \u001b[38;5;66;03m# folium.GeoJson(gpd.GeoSeries(field).to_json()).add_to(m2)\u001b[39;00m\n\u001b[0;32m----> 9\u001b[0m m2\u001b[38;5;241m.\u001b[39madd_child(\u001b[43mr\u001b[49m, name\u001b[38;5;241m=\u001b[39m\u001b[38;5;124m\"\u001b[39m\u001b[38;5;124mRobot\u001b[39m\u001b[38;5;124m\"\u001b[39m)\n\u001b[1;32m     10\u001b[0m \u001b[38;5;66;03m# r.add_to(m2)\u001b[39;00m\n\u001b[1;32m     12\u001b[0m \u001b[38;5;28mprint\u001b[39m(m2\u001b[38;5;241m.\u001b[39m\u001b[38;5;18m__class__\u001b[39m)\n",
      "\u001b[0;31mNameError\u001b[0m: name 'r' is not defined"
     ]
    }
   ],
   "source": [
    "from branca.element import Figure\n",
    "import geopandas as gpd\n",
    "import folium\n",
    "crs = \"Simple\"\n",
    "m2 = folium.Map(location=[72, 72], zoom_start=1, tiles=None, crs=crs)\n",
    "fpp.add_to(m2, show_junctions=True)\n",
    "\n",
    "# folium.GeoJson(gpd.GeoSeries(field).to_json()).add_to(m2)\n",
    "m2.add_child(r, name=\"Robot\")\n",
    "# r.add_to(m2)\n",
    "\n",
    "print(m2.__class__)\n",
    "m2"
   ]
  },
  {
   "cell_type": "code",
   "execution_count": null,
   "id": "da0f9f8b",
   "metadata": {},
   "outputs": [],
   "source": [
    "# With Robot as a GeoJson object, changing the robot position dynamically changes the resulting map\n",
    "# without needing to re-generate the robot and put it in the map manually.\n",
    "r.position = (86, 64) \n",
    "r.heading = 45\n",
    "m2\n",
    "\n",
    "# Potential solution: Make Robot a inherit from GeoJson and add it as an object directly. \n",
    "# Override the appropriate functions (hard part)."
   ]
  },
  {
   "cell_type": "code",
   "execution_count": null,
   "id": "b27f1bf4",
   "metadata": {},
   "outputs": [],
   "source": [
    "ax = plt.gca()\n",
    "fpp.draw_on_axes(ax)\n",
    "r.draw_on_axes(ax)"
   ]
  },
  {
   "cell_type": "code",
   "execution_count": null,
   "id": "79290643",
   "metadata": {},
   "outputs": [],
   "source": [
    "from folium import GeoJson\n",
    "from typing import Callable\n",
    "\n",
    "fig2 = Figure(width=550, height=550)\n",
    "m1=folium.Map(location=[72, 72], zoom_start=1, tiles=None, crs=crs)\n",
    "\n",
    "def style_line_color(color:str) -> Callable:\n",
    "    def sf(nonsense):\n",
    "        return {\"color\": color}\n",
    "    return sf\n",
    "    \n",
    "for color in (\"red\", \"blue\"):\n",
    "    gj = GeoJson(gpd.GeoSeries(fpp.field_lines.by_color(color)).to_json(),\n",
    "                style_function=style_line_color(color))\n",
    "    gj.add_to(m1)\n",
    "r.add_to(m1)\n",
    "# GeoJson().add_to(m2)\n",
    "m1"
   ]
  },
  {
   "cell_type": "code",
   "execution_count": null,
   "id": "52971a94",
   "metadata": {
    "scrolled": true
   },
   "outputs": [],
   "source": [
    "from datetime import datetime\n",
    "datetime.now().strftime(\"%Y-%m-%d\")"
   ]
  },
  {
   "cell_type": "code",
   "execution_count": null,
   "id": "908192d1",
   "metadata": {},
   "outputs": [],
   "source": [
    "r.position = (64, 64)\n",
    "r.heading = -90\n",
    "m1"
   ]
  },
  {
   "cell_type": "code",
   "execution_count": null,
   "id": "0358d707",
   "metadata": {},
   "outputs": [],
   "source": [
    "m2._children"
   ]
  },
  {
   "cell_type": "code",
   "execution_count": null,
   "id": "5b2cc91b",
   "metadata": {},
   "outputs": [],
   "source": []
  },
  {
   "cell_type": "code",
   "execution_count": null,
   "id": "d69323b2",
   "metadata": {},
   "outputs": [],
   "source": []
  }
 ],
 "metadata": {
  "kernelspec": {
   "display_name": "Python 3 (ipykernel)",
   "language": "python",
   "name": "python3"
  },
  "language_info": {
   "codemirror_mode": {
    "name": "ipython",
    "version": 3
   },
   "file_extension": ".py",
   "mimetype": "text/x-python",
   "name": "python",
   "nbconvert_exporter": "python",
   "pygments_lexer": "ipython3",
   "version": "3.10.8"
  }
 },
 "nbformat": 4,
 "nbformat_minor": 5
}
