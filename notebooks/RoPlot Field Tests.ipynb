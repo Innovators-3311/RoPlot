{
 "cells": [
  {
   "cell_type": "code",
   "execution_count": 1,
   "id": "f1875371",
   "metadata": {},
   "outputs": [],
   "source": [
    "import sys\n",
    "if \"../src/\" not in sys.path:\n",
    "    sys.path.append(\"../src/\")\n",
    "from roplot import FieldPowerPlay, Robot\n",
    "import matplotlib.pyplot as plt\n",
    "from shapely import Point"
   ]
  },
  {
   "cell_type": "code",
   "execution_count": 2,
   "id": "536e07bc",
   "metadata": {},
   "outputs": [],
   "source": [
    "fpp = FieldPowerPlay()\n",
    "\n",
    "r = Robot((16,16))\n",
    "r.position = Point(63, 63)\n",
    "r.heading = 80"
   ]
  },
  {
   "cell_type": "code",
   "execution_count": null,
   "id": "60d170e9",
   "metadata": {},
   "outputs": [
    {
     "name": "stdout",
     "output_type": "stream",
     "text": [
      "Root: <branca.element.Figure object at 0x7f1b273c2770>\n",
      "Root: <branca.element.Figure object at 0x7f1b273c2770>\n",
      "<class 'folium.folium.Map'>\n",
      "Your map should have been opened in your browser automatically.\n",
      "Press ctrl+c to return.\n"
     ]
    }
   ],
   "source": [
    "from branca.element import Figure\n",
    "import geopandas as gpd\n",
    "import folium\n",
    "crs = \"Simple\"\n",
    "m2 = folium.Map(location=[72, 72], zoom_start=1, tiles=None, crs=crs)\n",
    "print(\"Root:\", m2.get_root())\n",
    "fpp.add_to(m2, show_junctions=True)\n",
    "print(\"Root:\",m2.get_root())\n",
    "\n",
    "# folium.GeoJson(gpd.GeoSeries(field).to_json()).add_to(m2)\n",
    "r.add_to(m2)\n",
    "print(m2.__class__)\n",
    "m2.show_in_browser()"
   ]
  },
  {
   "cell_type": "code",
   "execution_count": null,
   "id": "ac941770",
   "metadata": {},
   "outputs": [],
   "source": [
    "fpp.draw_on_axes(ax)\n",
    "r.draw_on_axes(ax)"
   ]
  },
  {
   "cell_type": "code",
   "execution_count": null,
   "id": "5e93062b",
   "metadata": {},
   "outputs": [],
   "source": [
    "m2.get_root()"
   ]
  },
  {
   "cell_type": "code",
   "execution_count": null,
   "id": "2421b0f3",
   "metadata": {},
   "outputs": [],
   "source": [
    "from folium import GeoJson\n",
    "from typing import Callable\n",
    "\n",
    "fig2 = Figure(width=550, height=550)\n",
    "m1=folium.Map(location=[72, 72], zoom_start=1, tiles=None, crs=crs)\n",
    "\n",
    "def style_line_color(color:str) -> Callable:\n",
    "    def sf(nonsense):\n",
    "        return {\"color\": color}\n",
    "    return sf\n",
    "    \n",
    "for color in (\"red\", \"blue\"):\n",
    "    gj = GeoJson(gpd.GeoSeries(fpp.field_lines.by_color(color)).to_json(),\n",
    "                style_function=style_line_color(color))\n",
    "    gj.add_to(m1)\n",
    "# GeoJson().add_to(m2)\n",
    "m1"
   ]
  },
  {
   "cell_type": "code",
   "execution_count": null,
   "id": "f9a1064f",
   "metadata": {},
   "outputs": [],
   "source": [
    "from datetime import datetime\n",
    "datetime.now().strftime(\"%Y-%m-%d\")"
   ]
  },
  {
   "cell_type": "raw",
   "id": "fdb8f8e5",
   "metadata": {},
   "source": []
  },
  {
   "cell_type": "code",
   "execution_count": null,
   "id": "ccfbcc7b",
   "metadata": {},
   "outputs": [],
   "source": [
    "gj.style = {\"lineColor\": \"red\"}"
   ]
  },
  {
   "cell_type": "code",
   "execution_count": null,
   "id": "03ccc68d",
   "metadata": {},
   "outputs": [],
   "source": []
  }
 ],
 "metadata": {
  "kernelspec": {
   "display_name": "Python 3 (ipykernel)",
   "language": "python",
   "name": "python3"
  },
  "language_info": {
   "codemirror_mode": {
    "name": "ipython",
    "version": 3
   },
   "file_extension": ".py",
   "mimetype": "text/x-python",
   "name": "python",
   "nbconvert_exporter": "python",
   "pygments_lexer": "ipython3",
   "version": "3.10.8"
  }
 },
 "nbformat": 4,
 "nbformat_minor": 5
}
